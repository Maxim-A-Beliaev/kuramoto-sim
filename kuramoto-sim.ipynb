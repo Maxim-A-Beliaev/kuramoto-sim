{
 "cells": [
  {
   "cell_type": "code",
   "execution_count": 1,
   "metadata": {},
   "outputs": [],
   "source": [
    "import numpy as np\n",
    "from skimage import io\n",
    "import pandas as pd\n",
    "import os, shutil"
   ]
  },
  {
   "cell_type": "code",
   "execution_count": 2,
   "metadata": {},
   "outputs": [],
   "source": [
    "steps, R, K, freq = 10000, 12, 0.6, 40\n",
    "D = 2*R+1\n",
    "freq=np.pi/freq\n",
    "init_name='input'\n",
    "phase = np.asarray(io.imread(f'{init_name}.png'), dtype=np.float32)"
   ]
  },
  {
   "cell_type": "code",
   "execution_count": 3,
   "metadata": {},
   "outputs": [],
   "source": [
    "phase[np.isnan(phase)]=0\n",
    "phase=phase-phase.min()\n",
    "phase=phase/(phase.max()/(2*np.pi))\n",
    "phase[phase>2*np.pi]=2*np.pi"
   ]
  },
  {
   "cell_type": "code",
   "execution_count": 4,
   "metadata": {
    "scrolled": true
   },
   "outputs": [
    {
     "name": "stderr",
     "output_type": "stream",
     "text": [
      "/anaconda3/envs/default/lib/python3.7/site-packages/skimage/io/_plugins/matplotlib_plugin.py:78: UserWarning: Float image out of standard range; displaying image with stretched contrast.\n",
      "  warn(\"Float image out of standard range; displaying \"\n"
     ]
    },
    {
     "data": {
      "text/plain": [
       "<matplotlib.image.AxesImage at 0x1c1f6269d0>"
      ]
     },
     "execution_count": 4,
     "metadata": {},
     "output_type": "execute_result"
    }
   ],
   "source": [
    "io.imshow(phase)"
   ]
  },
  {
   "cell_type": "code",
   "execution_count": null,
   "metadata": {},
   "outputs": [],
   "source": [
    "basename='outputs/'\n",
    "base_this_sim=f\"{basename}{init_name}_{K}_{R}\"\n",
    "paths_save = [f\"{base_this_sim}/\", f\"{base_this_sim}_el/\"]\n",
    "folders = [0,1]\n",
    "for i in folders:\n",
    "    if os.path.exists(paths_save[i]):\n",
    "        shutil.rmtree(paths_save[i])\n",
    "        os.makedirs(paths_save[i])\n",
    "    else:\n",
    "        os.makedirs(paths_save[i])\n",
    "\n",
    "neighb_count = 1/(D*D)\n",
    "xx, yy = np.meshgrid(np.arange(D)-R,np.arange(D)-R)\n",
    "xx=xx.flatten()\n",
    "yy=yy.flatten()\n",
    "xx=np.delete(xx, D*D//2)\n",
    "yy=np.delete(yy, D*D//2)\n",
    "for z in range(steps):\n",
    "    phase_dif=np.zeros_like(phase)\n",
    "    elastic_map=np.zeros_like(phase)\n",
    "    for i in range(D*D-1):\n",
    "        cur_phase_dif = np.roll(np.roll(np.pad(phase, R, mode='edge'), xx[i], axis=1), yy[i], axis=0)[R:-R,R:-R]-phase\n",
    "        phase_dif+=np.sin(cur_phase_dif)\n",
    "        elastic_map+=1 - np.cos(cur_phase_dif)\n",
    "    phase += K*neighb_count*phase_dif\n",
    "    phase = phase%(2*np.pi)\n",
    "    \n",
    "    io.imsave(f'{paths_save[0]+str(z).zfill(4)}.tif',phase)\n",
    "    io.imsave(f'{paths_save[1]+str(z).zfill(4)}.tif',elastic_map)"
   ]
  },
  {
   "cell_type": "code",
   "execution_count": null,
   "metadata": {},
   "outputs": [],
   "source": []
  }
 ],
 "metadata": {
  "kernelspec": {
   "display_name": "Python 3",
   "language": "python",
   "name": "python3"
  },
  "language_info": {
   "codemirror_mode": {
    "name": "ipython",
    "version": 3
   },
   "file_extension": ".py",
   "mimetype": "text/x-python",
   "name": "python",
   "nbconvert_exporter": "python",
   "pygments_lexer": "ipython3",
   "version": "3.7.5"
  }
 },
 "nbformat": 4,
 "nbformat_minor": 2
}
